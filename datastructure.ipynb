{
 "cells": [
  {
   "cell_type": "markdown",
   "id": "e10bffd6-d815-469d-883d-b4da6bb08d00",
   "metadata": {},
   "source": [
    "#1 ----Why might you choose a deque from the collections module to implement a queue instead of using a    \n",
    "regular Python list "
   ]
  },
  {
   "cell_type": "markdown",
   "id": "394fafd4-6c48-4090-a660-e2f0cefb9b27",
   "metadata": {},
   "source": [
    "ans ----\n",
    "for a large number of enqueue and dequeue operations, using a deque is more efficient than using a regular Python list, especially for First-In-First-Out data structures like queues "
   ]
  },
  {
   "cell_type": "markdown",
   "id": "e35b1f61-d82d-4727-9898-9f8b9b37d4eb",
   "metadata": {},
   "source": [
    " #2 ---Can you explain a real-world scenario where using a stack would be a more practical choice than a list for \n",
    "data storage and retrieval"
   ]
  },
  {
   "cell_type": "markdown",
   "id": "0d4c6ae4-6054-4a73-b7c3-84991e0d54c1",
   "metadata": {},
   "source": [
    "ans ----a stack provides immediate access to the last item with a simple pop operation. This makes the stack a more practical choice for the browser history feature, ensuring quick and easy navigation for the user "
   ]
  },
  {
   "cell_type": "markdown",
   "id": "52c1784d-3d68-4cc9-83d4-48fd76ec45f6",
   "metadata": {},
   "source": [
    "#3 ----What is the primary advantage of using sets in Python, and in what type of problem-solving scenarios are \n",
    "they most useful"
   ]
  },
  {
   "cell_type": "markdown",
   "id": "bf061897-ccb2-4b51-a239-7e2bc84fdd09",
   "metadata": {},
   "source": [
    "ans ------ \n",
    "The primary advantage of using sets in Python is their ability to store unique values and perform operations,\n",
    "you need to ensure all elements are unique and want to remove duplicates from a collection "
   ]
  },
  {
   "cell_type": "markdown",
   "id": "d2c04d83-ad47-45ce-9d8e-c965fa407343",
   "metadata": {},
   "source": [
    "#4------ When might you choose to use an array instead of a list for storing numerical data in Python? What \n",
    "benefits do arrays offer in this context"
   ]
  },
  {
   "cell_type": "markdown",
   "id": "82cf1443-df59-4179-8f51-fdf7b35b197b",
   "metadata": {},
   "source": [
    "ans ----- memory efficiency ,performance , functionality "
   ]
  },
  {
   "cell_type": "markdown",
   "id": "fe0c799e-2c65-41f6-b6aa-974ac8e30d61",
   "metadata": {},
   "source": [
    "#5----- In Python, what's the primary difference between dictionaries and lists, and how does this difference \n",
    "impact their use cases in programming"
   ]
  },
  {
   "cell_type": "markdown",
   "id": "bf4f2c7b-799f-4072-a387-bd6d1d22589e",
   "metadata": {},
   "source": [
    "ans___when the order of items is important we choose a list ,\n",
    "mapping of unique keys to values and require efficient lookups."
   ]
  }
 ],
 "metadata": {
  "kernelspec": {
   "display_name": "Python 3 (ipykernel)",
   "language": "python",
   "name": "python3"
  },
  "language_info": {
   "codemirror_mode": {
    "name": "ipython",
    "version": 3
   },
   "file_extension": ".py",
   "mimetype": "text/x-python",
   "name": "python",
   "nbconvert_exporter": "python",
   "pygments_lexer": "ipython3",
   "version": "3.10.8"
  }
 },
 "nbformat": 4,
 "nbformat_minor": 5
}
